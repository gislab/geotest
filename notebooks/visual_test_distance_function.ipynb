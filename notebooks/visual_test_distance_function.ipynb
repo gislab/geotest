{
 "cells": [
  {
   "cell_type": "code",
   "execution_count": 1,
   "metadata": {},
   "outputs": [
    {
     "name": "stderr",
     "output_type": "stream",
     "text": [
      "INFO 2020-10-04 11:57:13,748 font_manager 27 139924068874048 Generating new fontManager, this may take some time...\n"
     ]
    }
   ],
   "source": [
    "%matplotlib inline\n",
    "from django.db.models import Q\n",
    "import matplotlib.pyplot as plt\n",
    "from coordmanager.models import Coordinate\n",
    "plt.style.use('seaborn-whitegrid')\n",
    "query_point = (551877.0, 1325102.2)\n",
    "num_point = 500"
   ]
  },
  {
   "cell_type": "code",
   "execution_count": 3,
   "metadata": {},
   "outputs": [
    {
     "data": {
      "image/png": "[encoded data removed]",
      "text/plain": [
       "<Figure size 432x288 with 1 Axes>"
      ]
     },
     "metadata": {},
     "output_type": "display_data"
    }
   ],
   "source": [
    "nearest = Coordinate.objects.distance(query_point[0], query_point[1]).order_by('distance')[0:num_point]\n",
    "furthest = Coordinate.objects.distance(query_point[0], query_point[1]).order_by('-distance')[0:num_point]\n",
    "rest = Coordinate.objects.exclude(\n",
    "    Q(id__in=nearest.values_list('id', flat=True)) | Q(id__in=furthest.values_list('id', flat=True))\n",
    ")\n",
    "for point in nearest.values('x','y'):\n",
    "    plt.plot(point['x'], point['y'], 'o', color='red')\n",
    "for point in furthest.values('x','y'):\n",
    "    plt.plot(point['x'], point['y'], 'o', color='yellow')\n",
    "for point in rest.values('x','y'):\n",
    "    plt.plot(point['x'], point['y'], 'o', color='blue')\n",
    "\n",
    "plt.plot(query_point[0], query_point[1], 'x', color='blue')\n",
    "plt.show()"
   ]
  },
  {
   "cell_type": "code",
   "execution_count": null,
   "metadata": {},
   "outputs": [],
   "source": []
  },
  {
   "cell_type": "code",
   "execution_count": null,
   "metadata": {},
   "outputs": [],
   "source": []
  }
 ],
 "metadata": {
  "kernelspec": {
   "display_name": "Django Shell-Plus",
   "language": "python",
   "name": "django_extensions"
  },
  "language_info": {
   "codemirror_mode": {
    "name": "ipython",
    "version": 3
   },
   "file_extension": ".py",
   "mimetype": "text/x-python",
   "name": "python",
   "nbconvert_exporter": "python",
   "pygments_lexer": "ipython3",
   "version": "3.8.4"
  }
 },
 "nbformat": 4,
 "nbformat_minor": 4
}
